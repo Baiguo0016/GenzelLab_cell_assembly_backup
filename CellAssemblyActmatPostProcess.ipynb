{
 "cells": [
  {
   "cell_type": "code",
   "execution_count": 1,
   "metadata": {},
   "outputs": [],
   "source": [
    "import numpy as np\n",
    "import os\n",
    "import pandas as pd\n",
    "import assembly as assembly\n",
    "import time as time\n",
    "import numpy as np\n",
    "import matplotlib.pyplot as plt\n",
    "import glob\n",
    "import pickle"
   ]
  },
  {
   "cell_type": "code",
   "execution_count": 2,
   "metadata": {},
   "outputs": [],
   "source": [
    "'''\n",
    "Specify the path where you put the generated data from previous script\n",
    "'''\n",
    "\n",
    "path = \"/media/adrian/6aa1794c-0320-4096-a7df-00ab0ba946dc/Cell_assembly_yuqin/new_2019-11-16\"\n",
    "os.chdir(path)"
   ]
  },
  {
   "cell_type": "code",
   "execution_count": 3,
   "metadata": {},
   "outputs": [],
   "source": [
    "def load_data():\n",
    "    load_dict = {}\n",
    "    for np_name in glob.glob('*.np[yz]'):\n",
    "        load_dict[np_name[20:-4]] = np.load(np_name)\n",
    "    return load_dict\n",
    "\n",
    "def clean_actmat(load_dict):\n",
    "    del_indices = [i for i, x in enumerate(load_dict[\"Trial4_neuron_name\"]) if x == \"null\"]\n",
    "    mat_dict = dict([(key, value) for key, value in load_dict.items() if '_actmat' in key.lower()])\n",
    "    actmat_clean = {}\n",
    "    for each_key, each_mat in mat_dict.items():\n",
    "        new_mat = np.delete(each_mat,del_indices, 0)\n",
    "        actmat_clean[each_key[:len(each_key) - 7]] = new_mat\n",
    "    neuron_name =  dict(enumerate([x for x in load_dict[\"Trial4_neuron_name\"] if x != \"null\"]))\n",
    "    return actmat_clean, neuron_name"
   ]
  },
  {
   "cell_type": "code",
   "execution_count": 4,
   "metadata": {},
   "outputs": [],
   "source": [
    "load_dict=load_data();\n",
    "actmat_dict, neuron_name_dict = clean_actmat(load_dict)"
   ]
  },
  {
   "cell_type": "code",
   "execution_count": 5,
   "metadata": {},
   "outputs": [],
   "source": [
    "'''The file will saved in the path previously defined'''\n",
    "\n",
    "act_mat_file = open(\"actmat_dict.pkl\", \"wb\")\n",
    "pickle.dump(actmat_dict, act_mat_file)                     \n",
    "act_mat_file.close()\n",
    "\n",
    "neuron_name_file = open(\"neuron_name_dict.pkl\", \"wb\")\n",
    "pickle.dump(neuron_name_dict, neuron_name_file)\n",
    "neuron_name_file.close()\n"
   ]
  },
  {
   "cell_type": "code",
   "execution_count": null,
   "metadata": {},
   "outputs": [],
   "source": []
  },
  {
   "cell_type": "code",
   "execution_count": null,
   "metadata": {},
   "outputs": [],
   "source": []
  },
  {
   "cell_type": "code",
   "execution_count": null,
   "metadata": {},
   "outputs": [],
   "source": []
  }
 ],
 "metadata": {
  "kernelspec": {
   "display_name": "Python 3",
   "language": "python",
   "name": "python3"
  },
  "language_info": {
   "codemirror_mode": {
    "name": "ipython",
    "version": 3
   },
   "file_extension": ".py",
   "mimetype": "text/x-python",
   "name": "python",
   "nbconvert_exporter": "python",
   "pygments_lexer": "ipython3",
   "version": "3.6.12"
  }
 },
 "nbformat": 4,
 "nbformat_minor": 4
}
